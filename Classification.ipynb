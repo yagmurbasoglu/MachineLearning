{
  "nbformat": 4,
  "nbformat_minor": 0,
  "metadata": {
    "colab": {
      "provenance": []
    },
    "kernelspec": {
      "name": "python3",
      "display_name": "Python 3"
    },
    "language_info": {
      "name": "python"
    }
  },
  "cells": [
    {
      "cell_type": "code",
      "execution_count": null,
      "metadata": {
        "id": "rsue5RCNhe10"
      },
      "outputs": [],
      "source": [
        "#logistic regression\n",
        "import pandas as pd\n",
        "import numpy as np\n",
        "import seaborn as sns"
      ]
    },
    {
      "cell_type": "code",
      "source": [
        "diabetes = pd.read_csv(\"diabetess.csv\")\n",
        "df= diabetes.copy()\n",
        "df"
      ],
      "metadata": {
        "id": "xrrHD6HEiNhd"
      },
      "execution_count": null,
      "outputs": []
    },
    {
      "cell_type": "code",
      "source": [
        "df.isna().sum()"
      ],
      "metadata": {
        "id": "1UaJmNHfjqLW"
      },
      "execution_count": null,
      "outputs": []
    },
    {
      "cell_type": "code",
      "source": [
        "df.info()"
      ],
      "metadata": {
        "id": "VmEYlzYpkFHL"
      },
      "execution_count": null,
      "outputs": []
    },
    {
      "cell_type": "code",
      "source": [
        "df['Outcome'] = df['Outcome'].astype('category')"
      ],
      "metadata": {
        "id": "Su2SukEYkUfU"
      },
      "execution_count": null,
      "outputs": []
    },
    {
      "cell_type": "code",
      "source": [
        "df.info()"
      ],
      "metadata": {
        "id": "W3DJVjWHk4YX"
      },
      "execution_count": null,
      "outputs": []
    },
    {
      "cell_type": "code",
      "source": [
        "diabetes.info()"
      ],
      "metadata": {
        "id": "ZHgLHJTslM6D"
      },
      "execution_count": null,
      "outputs": []
    },
    {
      "cell_type": "code",
      "source": [
        "diabetes['Outcome'].mean()"
      ],
      "metadata": {
        "id": "HwZoqEZ7lAye"
      },
      "execution_count": null,
      "outputs": []
    },
    {
      "cell_type": "code",
      "source": [
        "df['Outcome'].mean()"
      ],
      "metadata": {
        "id": "Ug0_L1gFlRvi"
      },
      "execution_count": null,
      "outputs": []
    },
    {
      "cell_type": "code",
      "source": [
        "df['Outcome'].value_count()"
      ],
      "metadata": {
        "id": "LR2H6cwYlb-J"
      },
      "execution_count": null,
      "outputs": []
    },
    {
      "cell_type": "code",
      "source": [
        "df['Outcome'].value_count().plot.pie();"
      ],
      "metadata": {
        "id": "txyRil2ClpvE"
      },
      "execution_count": null,
      "outputs": []
    },
    {
      "cell_type": "code",
      "source": [
        "df['Outcome'].value_count().plot.barh();"
      ],
      "metadata": {
        "id": "WP-8F4D2l3xj"
      },
      "execution_count": null,
      "outputs": []
    },
    {
      "cell_type": "code",
      "source": [
        "df['Outcome'].value_count().plot.bar();"
      ],
      "metadata": {
        "id": "Xkc-LwIVl_O-"
      },
      "execution_count": null,
      "outputs": []
    },
    {
      "cell_type": "code",
      "source": [
        "df.descrribe().T"
      ],
      "metadata": {
        "id": "XsfLraZumHJt"
      },
      "execution_count": null,
      "outputs": []
    },
    {
      "cell_type": "code",
      "source": [
        "import seaborn as sns\n",
        "sns.boxplot(x=\"Pregnancies\",data=df);"
      ],
      "metadata": {
        "id": "fKVB0nGqm5uk"
      },
      "execution_count": null,
      "outputs": []
    },
    {
      "cell_type": "code",
      "source": [
        "y = df['Outcome']\n",
        "X = df.drop(['Outcome'],axis=1)"
      ],
      "metadata": {
        "id": "OF8DTNnPnKgn"
      },
      "execution_count": null,
      "outputs": []
    },
    {
      "cell_type": "code",
      "source": [
        "X"
      ],
      "metadata": {
        "id": "Xa4wiK-RnbId"
      },
      "execution_count": null,
      "outputs": []
    },
    {
      "cell_type": "code",
      "source": [
        "y"
      ],
      "metadata": {
        "id": "l5I__Kugnbyy"
      },
      "execution_count": null,
      "outputs": []
    },
    {
      "cell_type": "code",
      "source": [
        "from sklearn.model_selection import train_test_split\n",
        "\n",
        "X_train , X_test , y_train , y_test = train_test_split(X,y,test_size=0.2)"
      ],
      "metadata": {
        "id": "4A8dmsLkngdP"
      },
      "execution_count": null,
      "outputs": []
    },
    {
      "cell_type": "code",
      "source": [
        "from sklearn.linear_model import LogisticRegression\n",
        "model = LogisticRegression(max_iter=200)\n",
        "model.fit(X_train,y_train)"
      ],
      "metadata": {
        "id": "TUaTc2Cnn_i5"
      },
      "execution_count": null,
      "outputs": []
    },
    {
      "cell_type": "code",
      "source": [
        "model.intercept_"
      ],
      "metadata": {
        "id": "CjIt9arloWjR"
      },
      "execution_count": null,
      "outputs": []
    },
    {
      "cell_type": "code",
      "source": [
        "model.coef_"
      ],
      "metadata": {
        "id": "FIVBm9cxoaGA"
      },
      "execution_count": null,
      "outputs": []
    },
    {
      "cell_type": "code",
      "source": [
        "X_test[:5]"
      ],
      "metadata": {
        "id": "BpY_orG7ohLE"
      },
      "execution_count": null,
      "outputs": []
    },
    {
      "cell_type": "code",
      "source": [
        "y_pred = model.predict(X_test)\n",
        "y_pred\n",
        "y_pred[:5]"
      ],
      "metadata": {
        "id": "pZoC-QV1okyC"
      },
      "execution_count": null,
      "outputs": []
    },
    {
      "cell_type": "code",
      "source": [
        "from sklearn.metrics import confusion_matrix\n",
        "\n",
        "df= pd.DataFrame(confusion_matrix(y_test,y_pred),colums=['Predicted Positive','Predicted Negative'],index=['Actual Positive','Actual Negative'])\n",
        "df"
      ],
      "metadata": {
        "id": "0hgJd8cszWir"
      },
      "execution_count": null,
      "outputs": []
    },
    {
      "cell_type": "code",
      "source": [
        "from sklearn.metrics import accuracy_score\n",
        "\n",
        "accuracy_score(y_test,y_pred)"
      ],
      "metadata": {
        "id": "aEHWTUx70HA5"
      },
      "execution_count": null,
      "outputs": []
    },
    {
      "cell_type": "code",
      "source": [
        "from sklearn.metrics import classification_report\n",
        "print(classification_report(y_test,y_pred))"
      ],
      "metadata": {
        "id": "3RbbR7Aw0RAY"
      },
      "execution_count": null,
      "outputs": []
    },
    {
      "cell_type": "code",
      "source": [
        "from sklearn.metrics import accuracy_score,precision_score,recall_score,f1_score\n",
        "print(f\"Acuuracy: {accuracy_score(y_test,y_pred)}\")\n",
        "print(f\"Precision: {precision_score(y_test,y_pred)}\")\n",
        "print(f\"Recall: {recall_score(y_test,y_pred)}\")\n",
        "print(f\"F1 Score: {f1_score(y_test,y_pred)}\")"
      ],
      "metadata": {
        "id": "OT_4MP9Y0Z-p"
      },
      "execution_count": null,
      "outputs": []
    },
    {
      "cell_type": "code",
      "source": [
        "model.predict_proba(X_test)[0:10]"
      ],
      "metadata": {
        "id": "c6js_BGJ1DoF"
      },
      "execution_count": null,
      "outputs": []
    },
    {
      "cell_type": "code",
      "source": [
        "y_test[0:10]"
      ],
      "metadata": {
        "id": "eQgoAULD1hqc"
      },
      "execution_count": null,
      "outputs": []
    },
    {
      "cell_type": "code",
      "source": [
        "y_probablity = model.predict_proba(X_test)\n",
        "y_probablity = y_probablity[:,1]\n",
        "y_probablity[0:10]"
      ],
      "metadata": {
        "id": "5zacWHQi1nQH"
      },
      "execution_count": null,
      "outputs": []
    },
    {
      "cell_type": "code",
      "source": [
        "import matplotlib.pyplot as plt\n",
        "from sklearn.metrics import roc_auc_score,roc_curve\n",
        "\n",
        "model_roc_auc = roc_auc_score(y_test,model.predict(X_test))\n",
        "\n",
        "fpr,tpr,thresshold = roc_curve(y_test,model.predict(X_test)[:,1])\n",
        "plt.figure()\n",
        "plt.plot(fpr,tpr,label=\"AUC(area = %0.2f)\" % model_roc_auc)\n",
        "plt.plot([0,1],[0,1],'r--')\n",
        "plt.xlin(([0.0,1.0]))\n",
        "plt.ylin(([0.0,1.05]))\n",
        "plt.xlabel(\"False Positive Rate\")\n",
        "plt.ylabel(\"True Positive Rate\")\n",
        "poklt.title('Title')\n",
        "plt.show();"
      ],
      "metadata": {
        "id": "-AG4s6r12ACS"
      },
      "execution_count": null,
      "outputs": []
    }
  ]
}
